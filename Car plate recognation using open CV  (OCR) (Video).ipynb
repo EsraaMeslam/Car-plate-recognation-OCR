{
 "cells": [
  {
   "cell_type": "code",
   "execution_count": 1,
   "id": "10aa2fa2",
   "metadata": {},
   "outputs": [
    {
     "name": "stderr",
     "output_type": "stream",
     "text": [
      "C:\\Users\\user\\anaconda3\\anaconde file\\lib\\site-packages\\paramiko\\transport.py:219: CryptographyDeprecationWarning: Blowfish has been deprecated\n",
      "  \"class\": algorithms.Blowfish,\n"
     ]
    }
   ],
   "source": [
    "import cv2\n",
    "import numpy as np \n",
    "import imutils\n",
    "import easyocr"
   ]
  },
  {
   "cell_type": "code",
   "execution_count": 2,
   "id": "866dd9e4",
   "metadata": {},
   "outputs": [
    {
     "name": "stderr",
     "output_type": "stream",
     "text": [
      "Neither CUDA nor MPS are available - defaulting to CPU. Note: This module is much faster with a GPU.\n"
     ]
    },
    {
     "ename": "NameError",
     "evalue": "name 'out' is not defined",
     "output_type": "error",
     "traceback": [
      "\u001b[1;31m---------------------------------------------------------------------------\u001b[0m",
      "\u001b[1;31mNameError\u001b[0m                                 Traceback (most recent call last)",
      "Cell \u001b[1;32mIn[2], line 55\u001b[0m\n\u001b[0;32m     52\u001b[0m         res \u001b[38;5;241m=\u001b[39m cv2\u001b[38;5;241m.\u001b[39mrectangle(frame, \u001b[38;5;28mtuple\u001b[39m(location[\u001b[38;5;241m0\u001b[39m][\u001b[38;5;241m0\u001b[39m]), \u001b[38;5;28mtuple\u001b[39m(location[\u001b[38;5;241m2\u001b[39m][\u001b[38;5;241m0\u001b[39m]), (\u001b[38;5;241m0\u001b[39m, \u001b[38;5;241m255\u001b[39m, \u001b[38;5;241m0\u001b[39m), \u001b[38;5;241m3\u001b[39m)\n\u001b[0;32m     54\u001b[0m \u001b[38;5;66;03m# Write the frame into the output video\u001b[39;00m\n\u001b[1;32m---> 55\u001b[0m \u001b[43mout\u001b[49m\u001b[38;5;241m.\u001b[39mwrite(frame)\n\u001b[0;32m     57\u001b[0m \u001b[38;5;66;03m# Display the frame\u001b[39;00m\n\u001b[0;32m     58\u001b[0m cv2\u001b[38;5;241m.\u001b[39mimshow(\u001b[38;5;124m'\u001b[39m\u001b[38;5;124mframe\u001b[39m\u001b[38;5;124m'\u001b[39m, frame)\n",
      "\u001b[1;31mNameError\u001b[0m: name 'out' is not defined"
     ]
    }
   ],
   "source": [
    "cap = cv2.VideoCapture('car_plate.mp4')\n",
    "\n",
    "reader = easyocr.Reader(['en'])# Initialize EasyOCR\n",
    "\n",
    "while cap.isOpened():\n",
    "    ret, frame = cap.read()\n",
    "    if not ret:\n",
    "        break\n",
    "\n",
    "    \n",
    "    frame = cv2.resize(frame, (1200, 700))  # Resize frame\n",
    "\n",
    "    \n",
    "    gray = cv2.cvtColor(frame, cv2.COLOR_BGR2GRAY)# Convert the frame to grayscale\n",
    "\n",
    "   \n",
    "    bfilter = cv2.bilateralFilter(gray, 11, 17, 17) # Apply bilateral filter\n",
    "\n",
    "    \n",
    "    edged = cv2.Canny(bfilter, 30, 200)# Apply Canny edge detection\n",
    "\n",
    "    # Find contours\n",
    "    keypoints = cv2.findContours(edged.copy(), cv2.RETR_TREE, cv2.CHAIN_APPROX_SIMPLE)\n",
    "    contours = imutils.grab_contours(keypoints)\n",
    "    contours = sorted(contours, key=cv2.contourArea, reverse=True)[:10]\n",
    "\n",
    "    # Find plate location\n",
    "    location = None\n",
    "    for contour in contours:\n",
    "        approx = cv2.approxPolyDP(contour, 10, True)\n",
    "        if len(approx) == 4:\n",
    "            location = approx\n",
    "            break\n",
    "\n",
    "    # Extract plate region\n",
    "    if location is not None:\n",
    "        mask = np.zeros(gray.shape, np.uint8)\n",
    "        new_image = cv2.drawContours(mask, [location], -1, 255, -1)\n",
    "        new_image = cv2.bitwise_and(frame, frame, mask=mask)\n",
    "        (x, y) = np.where(mask == 255)\n",
    "        (x1, y1) = (np.min(x), np.min(y))\n",
    "        (x2, y2) = (np.max(x), np.max(y))\n",
    "        cropped_image = gray[x1:x2 + 1, y1:y2 + 1]\n",
    "\n",
    "        # Read text from plate region using EasyOCR\n",
    "        result = reader.readtext(cropped_image)\n",
    "        if result:\n",
    "            text = result[0][-2]\n",
    "            font = cv2.FONT_HERSHEY_SIMPLEX\n",
    "            res = cv2.putText(frame, text=text, org=(location[0][0][0], location[1][0][1] + 60), fontFace=font,\n",
    "                              fontScale=1, color=(0, 255, 0), thickness=2, lineType=cv2.LINE_AA)\n",
    "            res = cv2.rectangle(frame, tuple(location[0][0]), tuple(location[2][0]), (0, 255, 0), 3)\n",
    "\n",
    "  \n",
    "\n",
    "  \n",
    "    cv2.imshow('frame', frame)\n",
    "    if cv2.waitKey(1) ==27:\n",
    "        break\n",
    "\n",
    "\n",
    "cap.release()\n",
    "out.release()\n",
    "cv2.destroyAllWindows()\n"
   ]
  },
  {
   "cell_type": "markdown",
   "id": "1ca9cd52",
   "metadata": {},
   "source": [
    "### Wish u luck\n",
    "### Esraa Meslam"
   ]
  }
 ],
 "metadata": {
  "kernelspec": {
   "display_name": "Python 3 (ipykernel)",
   "language": "python",
   "name": "python3"
  },
  "language_info": {
   "codemirror_mode": {
    "name": "ipython",
    "version": 3
   },
   "file_extension": ".py",
   "mimetype": "text/x-python",
   "name": "python",
   "nbconvert_exporter": "python",
   "pygments_lexer": "ipython3",
   "version": "3.10.9"
  }
 },
 "nbformat": 4,
 "nbformat_minor": 5
}
